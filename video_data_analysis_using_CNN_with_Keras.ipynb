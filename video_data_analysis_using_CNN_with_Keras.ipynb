{
 "cells": [
  {
   "cell_type": "markdown",
   "metadata": {
    "colab_type": "text",
    "id": "0pTCMebWtASq"
   },
   "source": [
    "### Importing essential libraries"
   ]
  },
  {
   "cell_type": "code",
   "execution_count": 3,
   "metadata": {
    "colab": {
     "base_uri": "https://localhost:8080/",
     "height": 34
    },
    "colab_type": "code",
    "id": "yJcVUZKdtASs",
    "outputId": "d886da97-5eda-494e-dfcc-b36c3dfb97d3"
   },
   "outputs": [
    {
     "name": "stderr",
     "output_type": "stream",
     "text": [
      "Using TensorFlow backend.\n"
     ]
    }
   ],
   "source": [
    "import numpy as np\n",
    "import pandas as pd\n",
    "import cv2\n",
    "import math\n",
    "import matplotlib.pyplot as plt    \n",
    "# for preprocessing the images\n",
    "from keras.preprocessing import image   \n",
    "from keras.utils import np_utils\n",
    "# for resizing images\n",
    "from skimage.transform import resize  "
   ]
  },
  {
   "cell_type": "markdown",
   "metadata": {
    "colab_type": "text",
    "id": "as0K25UatASz"
   },
   "source": [
    "### Step 1: Extracting the static images from the video file\n",
    "We'll be using a mp4 file of duration 04:58 minutes. When converted to seconds it'll be equivalent to 298 seconds and if we constrict the frame size to 1, we will have 298 images in total."
   ]
  },
  {
   "cell_type": "code",
   "execution_count": 0,
   "metadata": {
    "colab": {},
    "colab_type": "code",
    "id": "t1dwM7qftAS0"
   },
   "outputs": [],
   "source": [
    "count = 0\n",
    "videoFile = \"Tom and jerry.mp4\"\n",
    "videoCapture = cv2.VideoCapture(videoFile)   # capturing the video from the given path\n",
    "frameRate = videoCapture.get(5) # frame rate\n",
    "x=1\n",
    "while(videoCapture.isOpened()):\n",
    "    frameId = videoCapture.get(1) #current frame number\n",
    "    ret, frame = videoCapture.read()\n",
    "    if (ret != True):\n",
    "        break\n",
    "    if (frameId % math.floor(frameRate) == 0):\n",
    "        filename =\"frame%d.jpg\" % count;count+=1\n",
    "        cv2.imwrite(filename, frame)\n",
    "videoCapture.release()"
   ]
  },
  {
   "cell_type": "markdown",
   "metadata": {
    "colab_type": "text",
    "id": "XFznFQBWtAS8"
   },
   "source": [
    "### Step- 2: Label the images to encode them according to TOM/ JERRY's presence in the pic for training.\n",
    "We'll encode the images as 0 for TOM, 1 for JERRY and -1 for neither in the frames. The labelled data is stored in mapping.csv."
   ]
  },
  {
   "cell_type": "code",
   "execution_count": 6,
   "metadata": {
    "colab": {
     "base_uri": "https://localhost:8080/",
     "height": 195
    },
    "colab_type": "code",
    "id": "Ys1xOxCAtAS-",
    "outputId": "84b9043e-ecaf-4e20-899d-3e44f52598f3"
   },
   "outputs": [
    {
     "data": {
      "text/html": [
       "<div>\n",
       "<style scoped>\n",
       "    .dataframe tbody tr th:only-of-type {\n",
       "        vertical-align: middle;\n",
       "    }\n",
       "\n",
       "    .dataframe tbody tr th {\n",
       "        vertical-align: top;\n",
       "    }\n",
       "\n",
       "    .dataframe thead th {\n",
       "        text-align: right;\n",
       "    }\n",
       "</style>\n",
       "<table border=\"1\" class=\"dataframe\">\n",
       "  <thead>\n",
       "    <tr style=\"text-align: right;\">\n",
       "      <th></th>\n",
       "      <th>Image_ID</th>\n",
       "      <th>Class</th>\n",
       "    </tr>\n",
       "  </thead>\n",
       "  <tbody>\n",
       "    <tr>\n",
       "      <th>0</th>\n",
       "      <td>frame0.jpg</td>\n",
       "      <td>1</td>\n",
       "    </tr>\n",
       "    <tr>\n",
       "      <th>1</th>\n",
       "      <td>frame1.jpg</td>\n",
       "      <td>1</td>\n",
       "    </tr>\n",
       "    <tr>\n",
       "      <th>2</th>\n",
       "      <td>frame2.jpg</td>\n",
       "      <td>0</td>\n",
       "    </tr>\n",
       "    <tr>\n",
       "      <th>3</th>\n",
       "      <td>frame3.jpg</td>\n",
       "      <td>0</td>\n",
       "    </tr>\n",
       "    <tr>\n",
       "      <th>4</th>\n",
       "      <td>frame4.jpg</td>\n",
       "      <td>0</td>\n",
       "    </tr>\n",
       "  </tbody>\n",
       "</table>\n",
       "</div>"
      ],
      "text/plain": [
       "     Image_ID  Class\n",
       "0  frame0.jpg      1\n",
       "1  frame1.jpg      1\n",
       "2  frame2.jpg      0\n",
       "3  frame3.jpg      0\n",
       "4  frame4.jpg      0"
      ]
     },
     "execution_count": 6,
     "metadata": {
      "tags": []
     },
     "output_type": "execute_result"
    }
   ],
   "source": [
    "data = pd.read_csv('mapping.csv') \n",
    "data.head()"
   ]
  },
  {
   "cell_type": "markdown",
   "metadata": {
    "colab_type": "text",
    "id": "i8AVEQgotATJ"
   },
   "source": [
    "You can view whether the mapping is correct or not by viewing the corresponding frame."
   ]
  },
  {
   "cell_type": "code",
   "execution_count": 0,
   "metadata": {
    "colab": {},
    "colab_type": "code",
    "id": "v8y3tgpDtATL",
    "outputId": "ecd075ab-43be-421a-de75-c0bb40cacbd2"
   },
   "outputs": [
    {
     "data": {
      "text/plain": [
       "Text(0.5, 1.0, 'label: 0')"
      ]
     },
     "execution_count": 27,
     "metadata": {
      "tags": []
     },
     "output_type": "execute_result"
    },
    {
     "data": {
      "image/png": "[encoded data removed]",
      "text/plain": [
       "<Figure size 432x288 with 1 Axes>"
      ]
     },
     "metadata": {
      "needs_background": "light",
      "tags": []
     },
     "output_type": "display_data"
    }
   ],
   "source": [
    "img = cv2.imread('frame2.jpg')\n",
    "plt.imshow(img)\n",
    "plt.title('label: 0') # Zero indicates TOM should be in the image"
   ]
  },
  {
   "cell_type": "code",
   "execution_count": 0,
   "metadata": {
    "colab": {},
    "colab_type": "code",
    "id": "LxcUaD0GtATT",
    "outputId": "0ca75f8d-ee0a-47d9-f337-5c0f54839053"
   },
   "outputs": [
    {
     "data": {
      "text/plain": [
       "Text(0.5, 1.0, 'label: 1')"
      ]
     },
     "execution_count": 28,
     "metadata": {
      "tags": []
     },
     "output_type": "execute_result"
    },
    {
     "data": {
      "image/png": "[encoded data removed]",
      "text/plain": [
       "<Figure size 432x288 with 1 Axes>"
      ]
     },
     "metadata": {
      "needs_background": "light",
      "tags": []
     },
     "output_type": "display_data"
    }
   ],
   "source": [
    "img = cv2.imread('frame0.jpg')\n",
    "plt.imshow(img)\n",
    "plt.title('label: 1') # Zero indicates TOM should be in the imagee"
   ]
  },
  {
   "cell_type": "markdown",
   "metadata": {
    "colab_type": "text",
    "id": "Jf5IRY-4tATa"
   },
   "source": [
    "### Step 3: Convert and stack the images as numpy arrays\n",
    "For input to the neural nets, we convert the '.jpg' images to numpy arrays and one- hot encoding the classes. Further we reduce the size of images so as to have their size equivalent to the one we are supposed to provide as input to the pretrained networks."
   ]
  },
  {
   "cell_type": "code",
   "execution_count": 0,
   "metadata": {
    "colab": {},
    "colab_type": "code",
    "id": "ZLk6963EtATb"
   },
   "outputs": [],
   "source": [
    "images = []\n",
    "for image in data.Image_ID:\n",
    "    img = cv2.imread(image)\n",
    "    X = np.array(img)\n",
    "    images.append(X)\n",
    "images = np.array(images)"
   ]
  },
  {
   "cell_type": "code",
   "execution_count": 0,
   "metadata": {
    "colab": {},
    "colab_type": "code",
    "id": "YVooxqV8tATf"
   },
   "outputs": [],
   "source": [
    "# one hot encoding Classes\n",
    "y = np_utils.to_categorical(data.Class, num_classes = 3)    "
   ]
  },
  {
   "cell_type": "markdown",
   "metadata": {
    "colab_type": "text",
    "id": "E_OQcxbXtATj"
   },
   "source": [
    "Pretrained models are a wonderful source of help for people looking to learn an algorithm or try out an existing framework. Due to time restrictions or computational restraints, it’s not always possible to build a model from scratch which is why pretrained models exist! You can use a pretrained model as a benchmark to either improve the existing model, or test your own model against it. The potential and possibilities are vast."
   ]
  },
  {
   "cell_type": "code",
   "execution_count": 0,
   "metadata": {
    "colab": {},
    "colab_type": "code",
    "id": "kHzU_nYRtATk"
   },
   "outputs": [],
   "source": [
    "# Reducing the size of images to 224*224*3\n",
    "img = []\n",
    "for i in range(0,images.shape[0]):\n",
    "    a = resize(images[i], preserve_range=True, output_shape=(224,224)).astype(int)      \n",
    "    img.append(a)\n",
    "X = np.array(img)"
   ]
  },
  {
   "cell_type": "code",
   "execution_count": 0,
   "metadata": {
    "colab": {},
    "colab_type": "code",
    "id": "bP8-6FPltATo"
   },
   "outputs": [],
   "source": [
    "from keras.applications.vgg16 import preprocess_input\n",
    "X = preprocess_input(X, mode='tf')      # preprocessing the input data"
   ]
  },
  {
   "cell_type": "markdown",
   "metadata": {
    "colab_type": "text",
    "id": "xWFheKQNtATr"
   },
   "source": [
    "### Step 5: Creating training, validation and test sets.\n",
    "We also need a validation set to check the performance of the model on unseen images. We will make use of the train_test_split() function of the sklearn.model_selection module to randomly divide images into training and validation set."
   ]
  },
  {
   "cell_type": "code",
   "execution_count": 19,
   "metadata": {
    "colab": {
     "base_uri": "https://localhost:8080/",
     "height": 34
    },
    "colab_type": "code",
    "id": "C-iZurD1tATs",
    "outputId": "3b57890f-cf9c-4afa-e3b1-86cef7794807"
   },
   "outputs": [
    {
     "data": {
      "text/plain": [
       "(208, 224, 224, 3)"
      ]
     },
     "execution_count": 19,
     "metadata": {
      "tags": []
     },
     "output_type": "execute_result"
    }
   ],
   "source": [
    "from sklearn.model_selection import train_test_split\n",
    "X_train, X_eval, y_train, y_eval = train_test_split(X, y, test_size=0.3, random_state=42)"
   ]
  },
  {
   "cell_type": "markdown",
   "metadata": {
    "colab_type": "text",
    "id": "4JMdGE4HtATv"
   },
   "source": [
    "### Step 6: Building the models\n",
    "We will be using the predictions from the pretrained VGG16 model as input to the base CNN which we'll develop later"
   ]
  },
  {
   "cell_type": "code",
   "execution_count": 0,
   "metadata": {
    "colab": {},
    "colab_type": "code",
    "id": "ZpflSoLgtATw"
   },
   "outputs": [],
   "source": [
    "from keras.models import Sequential\n",
    "from keras.applications.vgg16 import VGG16\n",
    "from keras.layers import Dense, InputLayer, Dropout"
   ]
  },
  {
   "cell_type": "markdown",
   "metadata": {},
   "source": [
    "#### VGG16 model for prediction over Training and Validation sets"
   ]
  },
  {
   "cell_type": "code",
   "execution_count": 0,
   "metadata": {
    "colab": {},
    "colab_type": "code",
    "id": "rYpDL5_7tATz"
   },
   "outputs": [],
   "source": [
    "base_model = VGG16(weights='imagenet', include_top=False, input_shape=(224, 224, 3))    "
   ]
  },
  {
   "cell_type": "code",
   "execution_count": 0,
   "metadata": {
    "colab": {},
    "colab_type": "code",
    "id": "cA7mEGY2tAT3"
   },
   "outputs": [],
   "source": [
    "X_train = base_model.predict(X_train)\n",
    "X_eval = base_model.predict(X_eval)\n"
   ]
  },
  {
   "cell_type": "code",
   "execution_count": 23,
   "metadata": {
    "colab": {
     "base_uri": "https://localhost:8080/",
     "height": 34
    },
    "colab_type": "code",
    "id": "l3fZL2R9urZg",
    "outputId": "aecb8d23-fa9f-4fa7-c0cd-25ac428cc04a"
   },
   "outputs": [
    {
     "data": {
      "text/plain": [
       "((208, 7, 7, 512), (90, 7, 7, 512))"
      ]
     },
     "execution_count": 23,
     "metadata": {
      "tags": []
     },
     "output_type": "execute_result"
    }
   ],
   "source": [
    "# The shapes of output are (208,7,7,512)\n",
    "X_train.shape, X_eval.shape"
   ]
  },
  {
   "cell_type": "code",
   "execution_count": 0,
   "metadata": {
    "colab": {},
    "colab_type": "code",
    "id": "AyjRD1UJwWb6"
   },
   "outputs": [],
   "source": [
    "# Reshaping to 1-D array\n",
    "X_train = X_train.reshape(208, -1)      \n",
    "X_eval = X_eval.reshape(90,-1)"
   ]
  },
  {
   "cell_type": "code",
   "execution_count": 0,
   "metadata": {
    "colab": {},
    "colab_type": "code",
    "id": "8kBYUTOaurhn"
   },
   "outputs": [],
   "source": [
    "# Centering the data\n",
    "train = X_train/X_train.max()     \n",
    "X_eval = X_eval/X_train.max()"
   ]
  },
  {
   "cell_type": "markdown",
   "metadata": {
    "colab": {},
    "colab_type": "code",
    "id": "IUixa_zSwG6C"
   },
   "source": [
    "#### Training the base CNN"
   ]
  },
  {
   "cell_type": "code",
   "execution_count": 35,
   "metadata": {
    "colab": {
     "base_uri": "https://localhost:8080/",
     "height": 210
    },
    "colab_type": "code",
    "id": "oN9to16JwHMB",
    "outputId": "eef3ab83-4e50-448d-e372-800d78fef5d6"
   },
   "outputs": [
    {
     "name": "stdout",
     "output_type": "stream",
     "text": [
      "_________________________________________________________________\n",
      "Layer (type)                 Output Shape              Param #   \n",
      "=================================================================\n",
      "dense_5 (Dense)              (None, 1024)              25691136  \n",
      "_________________________________________________________________\n",
      "dense_6 (Dense)              (None, 3)                 3075      \n",
      "=================================================================\n",
      "Total params: 25,694,211\n",
      "Trainable params: 25,694,211\n",
      "Non-trainable params: 0\n",
      "_________________________________________________________________\n"
     ]
    }
   ],
   "source": [
    "net = Sequential()\n",
    "net.add(InputLayer((7*7*512,)))    # input layer\n",
    "net.add(Dense(units=1024, activation='sigmoid')) # hidden layer\n",
    "net.add(Dense(3, activation='softmax'))    # output layer\n",
    "net.summary()\n",
    "# O/P has 3 neurons because we've 3 classes to predict"
   ]
  },
  {
   "cell_type": "code",
   "execution_count": 0,
   "metadata": {
    "colab": {},
    "colab_type": "code",
    "id": "BOtl7DDNwwRk"
   },
   "outputs": [],
   "source": [
    "# Setting the optimizer, type of loss and metric for assessment of the model\n",
    "net.compile(loss='categorical_crossentropy', optimizer='adam', metrics=['accuracy'])"
   ]
  },
  {
   "cell_type": "code",
   "execution_count": 43,
   "metadata": {
    "colab": {
     "base_uri": "https://localhost:8080/",
     "height": 7092
    },
    "colab_type": "code",
    "id": "OOP2HmnLyR-K",
    "outputId": "86c934b6-35f7-44c0-c293-6503d1363c69"
   },
   "outputs": [
    {
     "name": "stdout",
     "output_type": "stream",
     "text": [
      "Train on 208 samples, validate on 90 samples\n",
      "Epoch 1/200\n",
      "208/208 [==============================] - 0s 860us/step - loss: 0.0070 - acc: 0.9952 - val_loss: 0.7095 - val_acc: 0.7111\n",
      "Epoch 2/200\n",
      "208/208 [==============================] - 0s 818us/step - loss: 0.0070 - acc: 0.9952 - val_loss: 0.6899 - val_acc: 0.7778\n",
      "Epoch 3/200\n",
      "208/208 [==============================] - 0s 817us/step - loss: 0.0068 - acc: 0.9952 - val_loss: 0.6847 - val_acc: 0.8444\n",
      "Epoch 4/200\n",
      "208/208 [==============================] - 0s 796us/step - loss: 0.0075 - acc: 0.9904 - val_loss: 0.6666 - val_acc: 0.8778\n",
      "Epoch 5/200\n",
      "208/208 [==============================] - 0s 792us/step - loss: 0.0076 - acc: 0.9904 - val_loss: 0.7077 - val_acc: 0.7222\n",
      "Epoch 6/200\n",
      "208/208 [==============================] - 0s 795us/step - loss: 0.0070 - acc: 0.9952 - val_loss: 0.7058 - val_acc: 0.7333\n",
      "Epoch 7/200\n",
      "208/208 [==============================] - 0s 781us/step - loss: 0.0072 - acc: 0.9952 - val_loss: 0.7117 - val_acc: 0.7111\n",
      "Epoch 8/200\n",
      "208/208 [==============================] - 0s 789us/step - loss: 0.0073 - acc: 0.9952 - val_loss: 0.6828 - val_acc: 0.8444\n",
      "Epoch 9/200\n",
      "208/208 [==============================] - 0s 792us/step - loss: 0.0076 - acc: 0.9952 - val_loss: 0.7100 - val_acc: 0.7111\n",
      "Epoch 10/200\n",
      "208/208 [==============================] - 0s 798us/step - loss: 0.0072 - acc: 0.9952 - val_loss: 0.6897 - val_acc: 0.7778\n",
      "Epoch 11/200\n",
      "208/208 [==============================] - 0s 787us/step - loss: 0.0068 - acc: 0.9952 - val_loss: 0.6808 - val_acc: 0.8444\n",
      "Epoch 12/200\n",
      "208/208 [==============================] - 0s 803us/step - loss: 0.0071 - acc: 0.9952 - val_loss: 0.6827 - val_acc: 0.8444\n",
      "Epoch 13/200\n",
      "208/208 [==============================] - 0s 791us/step - loss: 0.0068 - acc: 0.9952 - val_loss: 0.6715 - val_acc: 0.8556\n",
      "Epoch 14/200\n",
      "208/208 [==============================] - 0s 783us/step - loss: 0.0068 - acc: 0.9904 - val_loss: 0.6670 - val_acc: 0.8556\n",
      "Epoch 15/200\n",
      "208/208 [==============================] - 0s 802us/step - loss: 0.0072 - acc: 0.9952 - val_loss: 0.6577 - val_acc: 0.8667\n",
      "Epoch 16/200\n",
      "208/208 [==============================] - 0s 794us/step - loss: 0.0069 - acc: 0.9952 - val_loss: 0.6656 - val_acc: 0.8778\n",
      "Epoch 17/200\n",
      "208/208 [==============================] - 0s 785us/step - loss: 0.0073 - acc: 0.9904 - val_loss: 0.6806 - val_acc: 0.8444\n",
      "Epoch 18/200\n",
      "208/208 [==============================] - 0s 789us/step - loss: 0.0066 - acc: 1.0000 - val_loss: 0.6636 - val_acc: 0.8778\n",
      "Epoch 19/200\n",
      "208/208 [==============================] - 0s 780us/step - loss: 0.0069 - acc: 0.9952 - val_loss: 0.6564 - val_acc: 0.8667\n",
      "Epoch 20/200\n",
      "208/208 [==============================] - 0s 788us/step - loss: 0.0069 - acc: 0.9952 - val_loss: 0.6563 - val_acc: 0.8667\n",
      "Epoch 21/200\n",
      "208/208 [==============================] - 0s 802us/step - loss: 0.0073 - acc: 0.9952 - val_loss: 0.6530 - val_acc: 0.8667\n",
      "Epoch 22/200\n",
      "208/208 [==============================] - 0s 796us/step - loss: 0.0070 - acc: 0.9952 - val_loss: 0.6675 - val_acc: 0.8556\n",
      "Epoch 23/200\n",
      "208/208 [==============================] - 0s 789us/step - loss: 0.0067 - acc: 0.9952 - val_loss: 0.6798 - val_acc: 0.8444\n",
      "Epoch 24/200\n",
      "208/208 [==============================] - 0s 790us/step - loss: 0.0073 - acc: 0.9952 - val_loss: 0.6966 - val_acc: 0.7556\n",
      "Epoch 25/200\n",
      "208/208 [==============================] - 0s 791us/step - loss: 0.0075 - acc: 0.9904 - val_loss: 0.6581 - val_acc: 0.8667\n",
      "Epoch 26/200\n",
      "208/208 [==============================] - 0s 779us/step - loss: 0.0070 - acc: 0.9952 - val_loss: 0.6574 - val_acc: 0.8667\n",
      "Epoch 27/200\n",
      "208/208 [==============================] - 0s 787us/step - loss: 0.0071 - acc: 0.9952 - val_loss: 0.6670 - val_acc: 0.8556\n",
      "Epoch 28/200\n",
      "208/208 [==============================] - 0s 809us/step - loss: 0.0070 - acc: 0.9952 - val_loss: 0.6682 - val_acc: 0.8556\n",
      "Epoch 29/200\n",
      "208/208 [==============================] - 0s 777us/step - loss: 0.0067 - acc: 0.9952 - val_loss: 0.6974 - val_acc: 0.7556\n",
      "Epoch 30/200\n",
      "208/208 [==============================] - 0s 787us/step - loss: 0.0068 - acc: 0.9952 - val_loss: 0.7177 - val_acc: 0.7111\n",
      "Epoch 31/200\n",
      "208/208 [==============================] - 0s 791us/step - loss: 0.0070 - acc: 0.9952 - val_loss: 0.7081 - val_acc: 0.7111\n",
      "Epoch 32/200\n",
      "208/208 [==============================] - 0s 784us/step - loss: 0.0070 - acc: 0.9952 - val_loss: 0.7034 - val_acc: 0.7333\n",
      "Epoch 33/200\n",
      "208/208 [==============================] - 0s 779us/step - loss: 0.0074 - acc: 0.9904 - val_loss: 0.6723 - val_acc: 0.8444\n",
      "Epoch 34/200\n",
      "208/208 [==============================] - 0s 788us/step - loss: 0.0068 - acc: 0.9904 - val_loss: 0.6753 - val_acc: 0.8444\n",
      "Epoch 35/200\n",
      "208/208 [==============================] - 0s 775us/step - loss: 0.0069 - acc: 0.9952 - val_loss: 0.6794 - val_acc: 0.8444\n",
      "Epoch 36/200\n",
      "208/208 [==============================] - 0s 789us/step - loss: 0.0070 - acc: 0.9952 - val_loss: 0.6815 - val_acc: 0.8333\n",
      "Epoch 37/200\n",
      "208/208 [==============================] - 0s 781us/step - loss: 0.0067 - acc: 0.9952 - val_loss: 0.6703 - val_acc: 0.8444\n",
      "Epoch 38/200\n",
      "208/208 [==============================] - 0s 802us/step - loss: 0.0069 - acc: 0.9952 - val_loss: 0.6637 - val_acc: 0.8556\n",
      "Epoch 39/200\n",
      "208/208 [==============================] - 0s 789us/step - loss: 0.0070 - acc: 0.9904 - val_loss: 0.6690 - val_acc: 0.8556\n",
      "Epoch 40/200\n",
      "208/208 [==============================] - 0s 802us/step - loss: 0.0070 - acc: 0.9952 - val_loss: 0.6647 - val_acc: 0.8556\n",
      "Epoch 41/200\n",
      "208/208 [==============================] - 0s 790us/step - loss: 0.0069 - acc: 0.9952 - val_loss: 0.6709 - val_acc: 0.8444\n",
      "Epoch 42/200\n",
      "208/208 [==============================] - 0s 785us/step - loss: 0.0072 - acc: 0.9904 - val_loss: 0.6825 - val_acc: 0.8111\n",
      "Epoch 43/200\n",
      "208/208 [==============================] - 0s 789us/step - loss: 0.0072 - acc: 0.9904 - val_loss: 0.6663 - val_acc: 0.8556\n",
      "Epoch 44/200\n",
      "208/208 [==============================] - 0s 778us/step - loss: 0.0070 - acc: 0.9904 - val_loss: 0.6730 - val_acc: 0.8444\n",
      "Epoch 45/200\n",
      "208/208 [==============================] - 0s 781us/step - loss: 0.0072 - acc: 0.9952 - val_loss: 0.6854 - val_acc: 0.7667\n",
      "Epoch 46/200\n",
      "208/208 [==============================] - 0s 799us/step - loss: 0.0071 - acc: 0.9904 - val_loss: 0.6664 - val_acc: 0.8556\n",
      "Epoch 47/200\n",
      "208/208 [==============================] - 0s 779us/step - loss: 0.0071 - acc: 0.9952 - val_loss: 0.6573 - val_acc: 0.8778\n",
      "Epoch 48/200\n",
      "208/208 [==============================] - 0s 797us/step - loss: 0.0069 - acc: 0.9952 - val_loss: 0.6674 - val_acc: 0.8556\n",
      "Epoch 49/200\n",
      "208/208 [==============================] - 0s 783us/step - loss: 0.0069 - acc: 0.9904 - val_loss: 0.6743 - val_acc: 0.8444\n",
      "Epoch 50/200\n",
      "208/208 [==============================] - 0s 790us/step - loss: 0.0070 - acc: 0.9952 - val_loss: 0.6796 - val_acc: 0.8333\n",
      "Epoch 51/200\n",
      "208/208 [==============================] - 0s 789us/step - loss: 0.0071 - acc: 0.9904 - val_loss: 0.6662 - val_acc: 0.8556\n",
      "Epoch 52/200\n",
      "208/208 [==============================] - 0s 786us/step - loss: 0.0071 - acc: 0.9904 - val_loss: 0.6772 - val_acc: 0.8444\n",
      "Epoch 53/200\n",
      "208/208 [==============================] - 0s 836us/step - loss: 0.0068 - acc: 0.9952 - val_loss: 0.6762 - val_acc: 0.8444\n",
      "Epoch 54/200\n",
      "208/208 [==============================] - 0s 786us/step - loss: 0.0069 - acc: 0.9952 - val_loss: 0.6766 - val_acc: 0.8444\n",
      "Epoch 55/200\n",
      "208/208 [==============================] - 0s 781us/step - loss: 0.0069 - acc: 0.9904 - val_loss: 0.6661 - val_acc: 0.8556\n",
      "Epoch 56/200\n",
      "208/208 [==============================] - 0s 800us/step - loss: 0.0073 - acc: 0.9952 - val_loss: 0.6548 - val_acc: 0.8778\n",
      "Epoch 57/200\n",
      "208/208 [==============================] - 0s 787us/step - loss: 0.0067 - acc: 0.9952 - val_loss: 0.6655 - val_acc: 0.8556\n",
      "Epoch 58/200\n",
      "208/208 [==============================] - 0s 799us/step - loss: 0.0070 - acc: 0.9904 - val_loss: 0.6799 - val_acc: 0.8111\n",
      "Epoch 59/200\n",
      "208/208 [==============================] - 0s 809us/step - loss: 0.0073 - acc: 0.9904 - val_loss: 0.6642 - val_acc: 0.8556\n",
      "Epoch 60/200\n",
      "208/208 [==============================] - 0s 789us/step - loss: 0.0069 - acc: 0.9952 - val_loss: 0.6702 - val_acc: 0.8444\n",
      "Epoch 61/200\n",
      "208/208 [==============================] - 0s 780us/step - loss: 0.0075 - acc: 0.9904 - val_loss: 0.6969 - val_acc: 0.7333\n",
      "Epoch 62/200\n",
      "208/208 [==============================] - 0s 780us/step - loss: 0.0069 - acc: 0.9952 - val_loss: 0.6844 - val_acc: 0.7667\n",
      "Epoch 63/200\n",
      "208/208 [==============================] - 0s 814us/step - loss: 0.0067 - acc: 0.9952 - val_loss: 0.6725 - val_acc: 0.8444\n",
      "Epoch 64/200\n",
      "208/208 [==============================] - 0s 778us/step - loss: 0.0070 - acc: 0.9904 - val_loss: 0.6728 - val_acc: 0.8444\n",
      "Epoch 65/200\n",
      "208/208 [==============================] - 0s 865us/step - loss: 0.0075 - acc: 0.9952 - val_loss: 0.6446 - val_acc: 0.8889\n",
      "Epoch 66/200\n",
      "208/208 [==============================] - 0s 791us/step - loss: 0.0069 - acc: 0.9952 - val_loss: 0.6466 - val_acc: 0.8667\n",
      "Epoch 67/200\n",
      "208/208 [==============================] - 0s 778us/step - loss: 0.0071 - acc: 0.9952 - val_loss: 0.6499 - val_acc: 0.8667\n",
      "Epoch 68/200\n",
      "208/208 [==============================] - 0s 792us/step - loss: 0.0071 - acc: 0.9952 - val_loss: 0.6520 - val_acc: 0.8667\n",
      "Epoch 69/200\n",
      "208/208 [==============================] - 0s 799us/step - loss: 0.0073 - acc: 0.9904 - val_loss: 0.7122 - val_acc: 0.7111\n",
      "Epoch 70/200\n",
      "208/208 [==============================] - 0s 798us/step - loss: 0.0071 - acc: 0.9952 - val_loss: 0.7318 - val_acc: 0.6778\n",
      "Epoch 71/200\n",
      "208/208 [==============================] - 0s 794us/step - loss: 0.0074 - acc: 0.9952 - val_loss: 0.6971 - val_acc: 0.7333\n",
      "Epoch 72/200\n",
      "208/208 [==============================] - 0s 791us/step - loss: 0.0068 - acc: 0.9952 - val_loss: 0.6918 - val_acc: 0.7556\n",
      "Epoch 73/200\n",
      "208/208 [==============================] - 0s 805us/step - loss: 0.0071 - acc: 0.9952 - val_loss: 0.6735 - val_acc: 0.8444\n",
      "Epoch 74/200\n",
      "208/208 [==============================] - 0s 793us/step - loss: 0.0069 - acc: 0.9904 - val_loss: 0.6681 - val_acc: 0.8444\n",
      "Epoch 75/200\n",
      "208/208 [==============================] - 0s 793us/step - loss: 0.0069 - acc: 0.9904 - val_loss: 0.6679 - val_acc: 0.8444\n",
      "Epoch 76/200\n",
      "208/208 [==============================] - 0s 778us/step - loss: 0.0068 - acc: 0.9952 - val_loss: 0.6922 - val_acc: 0.7556\n",
      "Epoch 77/200\n",
      "208/208 [==============================] - 0s 798us/step - loss: 0.0069 - acc: 0.9952 - val_loss: 0.6951 - val_acc: 0.7444\n",
      "Epoch 78/200\n",
      "208/208 [==============================] - 0s 787us/step - loss: 0.0074 - acc: 0.9952 - val_loss: 0.7076 - val_acc: 0.7111\n",
      "Epoch 79/200\n",
      "208/208 [==============================] - 0s 794us/step - loss: 0.0066 - acc: 0.9952 - val_loss: 0.6577 - val_acc: 0.8667\n",
      "Epoch 80/200\n",
      "208/208 [==============================] - 0s 784us/step - loss: 0.0067 - acc: 0.9952 - val_loss: 0.6438 - val_acc: 0.8667\n",
      "Epoch 81/200\n",
      "208/208 [==============================] - 0s 788us/step - loss: 0.0069 - acc: 0.9952 - val_loss: 0.6429 - val_acc: 0.8667\n",
      "Epoch 82/200\n",
      "208/208 [==============================] - 0s 790us/step - loss: 0.0074 - acc: 0.9952 - val_loss: 0.6530 - val_acc: 0.8778\n",
      "Epoch 83/200\n",
      "208/208 [==============================] - 0s 794us/step - loss: 0.0081 - acc: 0.9952 - val_loss: 0.6385 - val_acc: 0.8778\n",
      "Epoch 84/200\n",
      "208/208 [==============================] - 0s 798us/step - loss: 0.0072 - acc: 0.9952 - val_loss: 0.6606 - val_acc: 0.8556\n",
      "Epoch 85/200\n",
      "208/208 [==============================] - 0s 790us/step - loss: 0.0068 - acc: 0.9952 - val_loss: 0.6687 - val_acc: 0.8444\n",
      "Epoch 86/200\n",
      "208/208 [==============================] - 0s 799us/step - loss: 0.0068 - acc: 0.9952 - val_loss: 0.6857 - val_acc: 0.7556\n",
      "Epoch 87/200\n",
      "208/208 [==============================] - 0s 786us/step - loss: 0.0069 - acc: 0.9952 - val_loss: 0.6955 - val_acc: 0.7333\n",
      "Epoch 88/200\n",
      "208/208 [==============================] - 0s 782us/step - loss: 0.0070 - acc: 0.9952 - val_loss: 0.7000 - val_acc: 0.7111\n",
      "Epoch 89/200\n",
      "208/208 [==============================] - 0s 788us/step - loss: 0.0068 - acc: 0.9952 - val_loss: 0.6795 - val_acc: 0.7778\n",
      "Epoch 90/200\n",
      "208/208 [==============================] - 0s 785us/step - loss: 0.0068 - acc: 0.9952 - val_loss: 0.6704 - val_acc: 0.8444\n",
      "Epoch 91/200\n",
      "208/208 [==============================] - 0s 786us/step - loss: 0.0068 - acc: 0.9952 - val_loss: 0.6657 - val_acc: 0.8444\n",
      "Epoch 92/200\n",
      "208/208 [==============================] - 0s 795us/step - loss: 0.0072 - acc: 0.9904 - val_loss: 0.6525 - val_acc: 0.8778\n",
      "Epoch 93/200\n",
      "208/208 [==============================] - 0s 791us/step - loss: 0.0069 - acc: 0.9952 - val_loss: 0.6539 - val_acc: 0.8778\n",
      "Epoch 94/200\n",
      "208/208 [==============================] - 0s 774us/step - loss: 0.0072 - acc: 0.9904 - val_loss: 0.6712 - val_acc: 0.8444\n",
      "Epoch 95/200\n",
      "208/208 [==============================] - 0s 777us/step - loss: 0.0067 - acc: 0.9952 - val_loss: 0.6517 - val_acc: 0.8778\n",
      "Epoch 96/200\n",
      "208/208 [==============================] - 0s 816us/step - loss: 0.0068 - acc: 0.9952 - val_loss: 0.6452 - val_acc: 0.8667\n",
      "Epoch 97/200\n",
      "208/208 [==============================] - 0s 797us/step - loss: 0.0068 - acc: 0.9952 - val_loss: 0.6465 - val_acc: 0.8667\n",
      "Epoch 98/200\n",
      "208/208 [==============================] - 0s 791us/step - loss: 0.0071 - acc: 0.9952 - val_loss: 0.6591 - val_acc: 0.8556\n",
      "Epoch 99/200\n",
      "208/208 [==============================] - 0s 791us/step - loss: 0.0070 - acc: 0.9952 - val_loss: 0.6553 - val_acc: 0.8556\n",
      "Epoch 100/200\n",
      "208/208 [==============================] - 0s 776us/step - loss: 0.0068 - acc: 0.9952 - val_loss: 0.6611 - val_acc: 0.8556\n",
      "Epoch 101/200\n",
      "208/208 [==============================] - 0s 781us/step - loss: 0.0069 - acc: 0.9952 - val_loss: 0.6719 - val_acc: 0.8444\n",
      "Epoch 102/200\n",
      "208/208 [==============================] - 0s 805us/step - loss: 0.0071 - acc: 0.9952 - val_loss: 0.6879 - val_acc: 0.7556\n",
      "Epoch 103/200\n",
      "208/208 [==============================] - 0s 796us/step - loss: 0.0068 - acc: 0.9952 - val_loss: 0.6763 - val_acc: 0.8111\n",
      "Epoch 104/200\n",
      "208/208 [==============================] - 0s 818us/step - loss: 0.0068 - acc: 0.9952 - val_loss: 0.6862 - val_acc: 0.7556\n",
      "Epoch 105/200\n",
      "208/208 [==============================] - 0s 796us/step - loss: 0.0073 - acc: 0.9952 - val_loss: 0.7061 - val_acc: 0.7111\n",
      "Epoch 106/200\n",
      "208/208 [==============================] - 0s 786us/step - loss: 0.0068 - acc: 0.9952 - val_loss: 0.6886 - val_acc: 0.7556\n",
      "Epoch 107/200\n",
      "208/208 [==============================] - 0s 778us/step - loss: 0.0074 - acc: 0.9904 - val_loss: 0.6571 - val_acc: 0.8556\n",
      "Epoch 108/200\n",
      "208/208 [==============================] - 0s 794us/step - loss: 0.0067 - acc: 0.9952 - val_loss: 0.6590 - val_acc: 0.8556\n",
      "Epoch 109/200\n",
      "208/208 [==============================] - 0s 778us/step - loss: 0.0069 - acc: 0.9952 - val_loss: 0.6665 - val_acc: 0.8444\n",
      "Epoch 110/200\n",
      "208/208 [==============================] - 0s 791us/step - loss: 0.0067 - acc: 0.9952 - val_loss: 0.6611 - val_acc: 0.8444\n",
      "Epoch 111/200\n",
      "208/208 [==============================] - 0s 785us/step - loss: 0.0071 - acc: 0.9952 - val_loss: 0.6680 - val_acc: 0.8444\n",
      "Epoch 112/200\n",
      "208/208 [==============================] - 0s 786us/step - loss: 0.0067 - acc: 0.9952 - val_loss: 0.6578 - val_acc: 0.8556\n",
      "Epoch 113/200\n",
      "208/208 [==============================] - 0s 794us/step - loss: 0.0070 - acc: 0.9952 - val_loss: 0.6486 - val_acc: 0.8778\n",
      "Epoch 114/200\n",
      "208/208 [==============================] - 0s 803us/step - loss: 0.0072 - acc: 0.9904 - val_loss: 0.6618 - val_acc: 0.8444\n",
      "Epoch 115/200\n",
      "208/208 [==============================] - 0s 784us/step - loss: 0.0073 - acc: 0.9904 - val_loss: 0.6485 - val_acc: 0.8778\n",
      "Epoch 116/200\n",
      "208/208 [==============================] - 0s 782us/step - loss: 0.0075 - acc: 0.9904 - val_loss: 0.6921 - val_acc: 0.7333\n",
      "Epoch 117/200\n",
      "208/208 [==============================] - 0s 809us/step - loss: 0.0071 - acc: 0.9952 - val_loss: 0.7100 - val_acc: 0.7111\n",
      "Epoch 118/200\n",
      "208/208 [==============================] - 0s 783us/step - loss: 0.0072 - acc: 0.9952 - val_loss: 0.6810 - val_acc: 0.7667\n",
      "Epoch 119/200\n",
      "208/208 [==============================] - 0s 781us/step - loss: 0.0070 - acc: 0.9952 - val_loss: 0.6642 - val_acc: 0.8444\n",
      "Epoch 120/200\n",
      "208/208 [==============================] - 0s 792us/step - loss: 0.0071 - acc: 0.9904 - val_loss: 0.6530 - val_acc: 0.8556\n",
      "Epoch 121/200\n",
      "208/208 [==============================] - 0s 783us/step - loss: 0.0066 - acc: 0.9952 - val_loss: 0.6784 - val_acc: 0.7667\n",
      "Epoch 122/200\n",
      "208/208 [==============================] - 0s 779us/step - loss: 0.0069 - acc: 0.9952 - val_loss: 0.6807 - val_acc: 0.7667\n",
      "Epoch 123/200\n",
      "208/208 [==============================] - 0s 795us/step - loss: 0.0070 - acc: 0.9952 - val_loss: 0.6860 - val_acc: 0.7556\n",
      "Epoch 124/200\n",
      "208/208 [==============================] - 0s 800us/step - loss: 0.0069 - acc: 0.9952 - val_loss: 0.7034 - val_acc: 0.7111\n",
      "Epoch 125/200\n",
      "208/208 [==============================] - 0s 785us/step - loss: 0.0073 - acc: 0.9952 - val_loss: 0.7139 - val_acc: 0.7000\n",
      "Epoch 126/200\n",
      "208/208 [==============================] - 0s 810us/step - loss: 0.0071 - acc: 0.9952 - val_loss: 0.6846 - val_acc: 0.7556\n",
      "Epoch 127/200\n",
      "208/208 [==============================] - 0s 786us/step - loss: 0.0068 - acc: 0.9952 - val_loss: 0.6625 - val_acc: 0.8444\n",
      "Epoch 128/200\n",
      "208/208 [==============================] - 0s 810us/step - loss: 0.0068 - acc: 0.9952 - val_loss: 0.6547 - val_acc: 0.8556\n",
      "Epoch 129/200\n",
      "208/208 [==============================] - 0s 835us/step - loss: 0.0069 - acc: 0.9952 - val_loss: 0.6434 - val_acc: 0.8667\n",
      "Epoch 130/200\n",
      "208/208 [==============================] - 0s 800us/step - loss: 0.0068 - acc: 0.9952 - val_loss: 0.6439 - val_acc: 0.8778\n",
      "Epoch 131/200\n",
      "208/208 [==============================] - 0s 790us/step - loss: 0.0071 - acc: 0.9904 - val_loss: 0.6523 - val_acc: 0.8556\n",
      "Epoch 132/200\n",
      "208/208 [==============================] - 0s 804us/step - loss: 0.0068 - acc: 0.9952 - val_loss: 0.6482 - val_acc: 0.8778\n",
      "Epoch 133/200\n",
      "208/208 [==============================] - 0s 813us/step - loss: 0.0069 - acc: 0.9952 - val_loss: 0.6683 - val_acc: 0.8444\n",
      "Epoch 134/200\n",
      "208/208 [==============================] - 0s 788us/step - loss: 0.0069 - acc: 0.9904 - val_loss: 0.6512 - val_acc: 0.8556\n",
      "Epoch 135/200\n",
      "208/208 [==============================] - 0s 786us/step - loss: 0.0068 - acc: 0.9952 - val_loss: 0.6528 - val_acc: 0.8556\n",
      "Epoch 136/200\n",
      "208/208 [==============================] - 0s 787us/step - loss: 0.0071 - acc: 0.9904 - val_loss: 0.6740 - val_acc: 0.7778\n",
      "Epoch 137/200\n",
      "208/208 [==============================] - 0s 779us/step - loss: 0.0071 - acc: 0.9952 - val_loss: 0.6822 - val_acc: 0.7556\n",
      "Epoch 138/200\n",
      "208/208 [==============================] - 0s 792us/step - loss: 0.0069 - acc: 0.9952 - val_loss: 0.6656 - val_acc: 0.8444\n",
      "Epoch 139/200\n",
      "208/208 [==============================] - 0s 805us/step - loss: 0.0068 - acc: 0.9952 - val_loss: 0.6590 - val_acc: 0.8444\n",
      "Epoch 140/200\n",
      "208/208 [==============================] - 0s 783us/step - loss: 0.0071 - acc: 0.9904 - val_loss: 0.6455 - val_acc: 0.8778\n",
      "Epoch 141/200\n",
      "208/208 [==============================] - 0s 789us/step - loss: 0.0069 - acc: 0.9904 - val_loss: 0.6531 - val_acc: 0.8556\n",
      "Epoch 142/200\n",
      "208/208 [==============================] - 0s 789us/step - loss: 0.0071 - acc: 0.9904 - val_loss: 0.6443 - val_acc: 0.8778\n",
      "Epoch 143/200\n",
      "208/208 [==============================] - 0s 791us/step - loss: 0.0068 - acc: 0.9952 - val_loss: 0.6535 - val_acc: 0.8556\n",
      "Epoch 144/200\n",
      "208/208 [==============================] - 0s 788us/step - loss: 0.0070 - acc: 0.9904 - val_loss: 0.6506 - val_acc: 0.8556\n",
      "Epoch 145/200\n",
      "208/208 [==============================] - 0s 801us/step - loss: 0.0067 - acc: 0.9952 - val_loss: 0.6735 - val_acc: 0.7778\n",
      "Epoch 146/200\n",
      "208/208 [==============================] - 0s 783us/step - loss: 0.0071 - acc: 0.9952 - val_loss: 0.6950 - val_acc: 0.7111\n",
      "Epoch 147/200\n",
      "208/208 [==============================] - 0s 794us/step - loss: 0.0072 - acc: 0.9952 - val_loss: 0.6994 - val_acc: 0.7111\n",
      "Epoch 148/200\n",
      "208/208 [==============================] - 0s 802us/step - loss: 0.0072 - acc: 0.9952 - val_loss: 0.6633 - val_acc: 0.8444\n",
      "Epoch 149/200\n",
      "208/208 [==============================] - 0s 785us/step - loss: 0.0069 - acc: 0.9952 - val_loss: 0.6601 - val_acc: 0.8444\n",
      "Epoch 150/200\n",
      "208/208 [==============================] - 0s 783us/step - loss: 0.0069 - acc: 0.9952 - val_loss: 0.6543 - val_acc: 0.8556\n",
      "Epoch 151/200\n",
      "208/208 [==============================] - 0s 814us/step - loss: 0.0067 - acc: 0.9952 - val_loss: 0.6327 - val_acc: 0.8667\n",
      "Epoch 152/200\n",
      "208/208 [==============================] - 0s 797us/step - loss: 0.0068 - acc: 0.9952 - val_loss: 0.6296 - val_acc: 0.9000\n",
      "Epoch 153/200\n",
      "208/208 [==============================] - 0s 782us/step - loss: 0.0069 - acc: 0.9952 - val_loss: 0.6321 - val_acc: 0.8667\n",
      "Epoch 154/200\n",
      "208/208 [==============================] - 0s 795us/step - loss: 0.0068 - acc: 0.9952 - val_loss: 0.6394 - val_acc: 0.8667\n",
      "Epoch 155/200\n",
      "208/208 [==============================] - 0s 800us/step - loss: 0.0072 - acc: 0.9904 - val_loss: 0.6578 - val_acc: 0.8444\n",
      "Epoch 156/200\n",
      "208/208 [==============================] - 0s 782us/step - loss: 0.0069 - acc: 0.9904 - val_loss: 0.6599 - val_acc: 0.8444\n",
      "Epoch 157/200\n",
      "208/208 [==============================] - 0s 815us/step - loss: 0.0069 - acc: 0.9904 - val_loss: 0.6368 - val_acc: 0.8667\n",
      "Epoch 158/200\n",
      "208/208 [==============================] - 0s 801us/step - loss: 0.0069 - acc: 0.9952 - val_loss: 0.6336 - val_acc: 0.8667\n",
      "Epoch 159/200\n",
      "208/208 [==============================] - 0s 785us/step - loss: 0.0069 - acc: 0.9952 - val_loss: 0.6363 - val_acc: 0.8667\n",
      "Epoch 160/200\n",
      "208/208 [==============================] - 0s 787us/step - loss: 0.0072 - acc: 0.9952 - val_loss: 0.6506 - val_acc: 0.8556\n",
      "Epoch 161/200\n",
      "208/208 [==============================] - 0s 791us/step - loss: 0.0069 - acc: 0.9952 - val_loss: 0.6601 - val_acc: 0.8444\n",
      "Epoch 162/200\n",
      "208/208 [==============================] - 0s 793us/step - loss: 0.0067 - acc: 0.9952 - val_loss: 0.6579 - val_acc: 0.8444\n",
      "Epoch 163/200\n",
      "208/208 [==============================] - 0s 796us/step - loss: 0.0070 - acc: 0.9952 - val_loss: 0.6511 - val_acc: 0.8556\n",
      "Epoch 164/200\n",
      "208/208 [==============================] - 0s 787us/step - loss: 0.0068 - acc: 0.9952 - val_loss: 0.6531 - val_acc: 0.8556\n",
      "Epoch 165/200\n",
      "208/208 [==============================] - 0s 827us/step - loss: 0.0070 - acc: 0.9952 - val_loss: 0.6501 - val_acc: 0.8556\n",
      "Epoch 166/200\n",
      "208/208 [==============================] - 0s 774us/step - loss: 0.0068 - acc: 0.9904 - val_loss: 0.6599 - val_acc: 0.8444\n",
      "Epoch 167/200\n",
      "208/208 [==============================] - 0s 812us/step - loss: 0.0071 - acc: 0.9952 - val_loss: 0.6402 - val_acc: 0.8778\n",
      "Epoch 168/200\n",
      "208/208 [==============================] - 0s 795us/step - loss: 0.0070 - acc: 0.9952 - val_loss: 0.6449 - val_acc: 0.8889\n",
      "Epoch 169/200\n",
      "208/208 [==============================] - 0s 814us/step - loss: 0.0069 - acc: 0.9952 - val_loss: 0.6406 - val_acc: 0.8778\n",
      "Epoch 170/200\n",
      "208/208 [==============================] - 0s 790us/step - loss: 0.0072 - acc: 0.9952 - val_loss: 0.6558 - val_acc: 0.8444\n",
      "Epoch 171/200\n",
      "208/208 [==============================] - 0s 786us/step - loss: 0.0070 - acc: 0.9952 - val_loss: 0.6481 - val_acc: 0.8556\n",
      "Epoch 172/200\n",
      "208/208 [==============================] - 0s 803us/step - loss: 0.0066 - acc: 0.9952 - val_loss: 0.6691 - val_acc: 0.8111\n",
      "Epoch 173/200\n",
      "208/208 [==============================] - 0s 782us/step - loss: 0.0071 - acc: 0.9952 - val_loss: 0.6997 - val_acc: 0.7111\n",
      "Epoch 174/200\n",
      "208/208 [==============================] - 0s 787us/step - loss: 0.0070 - acc: 0.9952 - val_loss: 0.7013 - val_acc: 0.7111\n",
      "Epoch 175/200\n",
      "208/208 [==============================] - 0s 810us/step - loss: 0.0070 - acc: 0.9952 - val_loss: 0.6743 - val_acc: 0.7667\n",
      "Epoch 176/200\n",
      "208/208 [==============================] - 0s 804us/step - loss: 0.0070 - acc: 0.9952 - val_loss: 0.6714 - val_acc: 0.7667\n",
      "Epoch 177/200\n",
      "208/208 [==============================] - 0s 814us/step - loss: 0.0070 - acc: 0.9952 - val_loss: 0.6507 - val_acc: 0.8556\n",
      "Epoch 178/200\n",
      "208/208 [==============================] - 0s 793us/step - loss: 0.0069 - acc: 0.9952 - val_loss: 0.6529 - val_acc: 0.8444\n",
      "Epoch 179/200\n",
      "208/208 [==============================] - 0s 788us/step - loss: 0.0068 - acc: 0.9904 - val_loss: 0.6446 - val_acc: 0.8556\n",
      "Epoch 180/200\n",
      "208/208 [==============================] - 0s 808us/step - loss: 0.0067 - acc: 0.9952 - val_loss: 0.6440 - val_acc: 0.8778\n",
      "Epoch 181/200\n",
      "208/208 [==============================] - 0s 771us/step - loss: 0.0067 - acc: 0.9952 - val_loss: 0.6453 - val_acc: 0.8556\n",
      "Epoch 182/200\n",
      "208/208 [==============================] - 0s 808us/step - loss: 0.0068 - acc: 0.9904 - val_loss: 0.6492 - val_acc: 0.8556\n",
      "Epoch 183/200\n",
      "208/208 [==============================] - 0s 783us/step - loss: 0.0072 - acc: 0.9904 - val_loss: 0.6372 - val_acc: 0.8778\n",
      "Epoch 184/200\n",
      "208/208 [==============================] - 0s 817us/step - loss: 0.0068 - acc: 0.9952 - val_loss: 0.6438 - val_acc: 0.8778\n",
      "Epoch 185/200\n",
      "208/208 [==============================] - 0s 801us/step - loss: 0.0071 - acc: 0.9904 - val_loss: 0.6633 - val_acc: 0.8333\n",
      "Epoch 186/200\n",
      "208/208 [==============================] - 0s 805us/step - loss: 0.0071 - acc: 0.9952 - val_loss: 0.6710 - val_acc: 0.7667\n",
      "Epoch 187/200\n",
      "208/208 [==============================] - 0s 796us/step - loss: 0.0068 - acc: 0.9952 - val_loss: 0.6588 - val_acc: 0.8444\n",
      "Epoch 188/200\n",
      "208/208 [==============================] - 0s 802us/step - loss: 0.0069 - acc: 0.9952 - val_loss: 0.6545 - val_acc: 0.8444\n",
      "Epoch 189/200\n",
      "208/208 [==============================] - 0s 791us/step - loss: 0.0069 - acc: 0.9952 - val_loss: 0.6515 - val_acc: 0.8444\n",
      "Epoch 190/200\n",
      "208/208 [==============================] - 0s 812us/step - loss: 0.0067 - acc: 0.9952 - val_loss: 0.6418 - val_acc: 0.8889\n",
      "Epoch 191/200\n",
      "208/208 [==============================] - 0s 783us/step - loss: 0.0070 - acc: 0.9952 - val_loss: 0.6340 - val_acc: 0.8667\n",
      "Epoch 192/200\n",
      "208/208 [==============================] - 0s 819us/step - loss: 0.0068 - acc: 0.9952 - val_loss: 0.6365 - val_acc: 0.8778\n",
      "Epoch 193/200\n",
      "208/208 [==============================] - 0s 783us/step - loss: 0.0068 - acc: 0.9952 - val_loss: 0.6475 - val_acc: 0.8556\n",
      "Epoch 194/200\n",
      "208/208 [==============================] - 0s 804us/step - loss: 0.0069 - acc: 0.9904 - val_loss: 0.6567 - val_acc: 0.8444\n",
      "Epoch 195/200\n",
      "208/208 [==============================] - 0s 796us/step - loss: 0.0069 - acc: 0.9904 - val_loss: 0.6474 - val_acc: 0.8556\n",
      "Epoch 196/200\n",
      "208/208 [==============================] - 0s 784us/step - loss: 0.0068 - acc: 0.9904 - val_loss: 0.6522 - val_acc: 0.8444\n",
      "Epoch 197/200\n",
      "208/208 [==============================] - 0s 791us/step - loss: 0.0069 - acc: 0.9904 - val_loss: 0.6467 - val_acc: 0.8556\n",
      "Epoch 198/200\n",
      "208/208 [==============================] - 0s 791us/step - loss: 0.0068 - acc: 0.9952 - val_loss: 0.6465 - val_acc: 0.8556\n",
      "Epoch 199/200\n",
      "208/208 [==============================] - 0s 795us/step - loss: 0.0071 - acc: 0.9952 - val_loss: 0.6383 - val_acc: 0.8778\n",
      "Epoch 200/200\n",
      "208/208 [==============================] - 0s 802us/step - loss: 0.0068 - acc: 0.9952 - val_loss: 0.6466 - val_acc: 0.8556\n"
     ]
    },
    {
     "data": {
      "text/plain": [
       "<keras.callbacks.History at 0x7f51a0162780>"
      ]
     },
     "execution_count": 43,
     "metadata": {
      "tags": []
     },
     "output_type": "execute_result"
    }
   ],
   "source": [
    "# Training the model\n",
    "net.fit(train, y_train, epochs=200, validation_data=(X_eval, y_eval))"
   ]
  },
  {
   "cell_type": "markdown",
   "metadata": {
    "colab": {},
    "colab_type": "code",
    "id": "AWloFfxhzL6d"
   },
   "source": [
    "At the end of 200 epochs we could acheive a validation accuracy of 85.66%"
   ]
  },
  {
   "cell_type": "markdown",
   "metadata": {
    "colab": {},
    "colab_type": "code",
    "id": "wQcoJDAJzUVg"
   },
   "source": [
    "### Step 7: EVALUATING THE MODEL OVER TEST DATA\n",
    "For this phase, we once again will extract the frames and preprocess the images obtained from the test .mp4 file before we evaluate it using the net. We have a subpar performance on the test set (probably due to the lack of training data)"
   ]
  },
  {
   "cell_type": "code",
   "execution_count": 0,
   "metadata": {
    "colab": {},
    "colab_type": "code",
    "id": "tkoJqKWmzjFX"
   },
   "outputs": [],
   "source": [
    "# Similar to earlier extract the preprocess the video file and corresponding images\n",
    "count = 0\n",
    "videoFile = \"Tom and Jerry 2.mp4\"\n",
    "cap = cv2.VideoCapture(videoFile)\n",
    "frameRate = cap.get(5) #frame rate\n",
    "x=1\n",
    "while(cap.isOpened()):\n",
    "    frameId = cap.get(1) #current frame number\n",
    "    ret, frame = cap.read()\n",
    "    if (ret != True):\n",
    "        break\n",
    "    if (frameId % math.floor(frameRate) == 0):\n",
    "        filename =\"test%d.jpg\" % count;count+=1\n",
    "        cv2.imwrite(filename, frame)\n",
    "cap.release()\n"
   ]
  },
  {
   "cell_type": "code",
   "execution_count": 55,
   "metadata": {
    "colab": {
     "base_uri": "https://localhost:8080/",
     "height": 195
    },
    "colab_type": "code",
    "id": "H1OApAhq0Ap_",
    "outputId": "51cc88d9-9163-408f-bd8e-72a4b62bb02b"
   },
   "outputs": [
    {
     "data": {
      "text/html": [
       "<div>\n",
       "<style scoped>\n",
       "    .dataframe tbody tr th:only-of-type {\n",
       "        vertical-align: middle;\n",
       "    }\n",
       "\n",
       "    .dataframe tbody tr th {\n",
       "        vertical-align: top;\n",
       "    }\n",
       "\n",
       "    .dataframe thead th {\n",
       "        text-align: right;\n",
       "    }\n",
       "</style>\n",
       "<table border=\"1\" class=\"dataframe\">\n",
       "  <thead>\n",
       "    <tr style=\"text-align: right;\">\n",
       "      <th></th>\n",
       "      <th>Image_ID</th>\n",
       "    </tr>\n",
       "  </thead>\n",
       "  <tbody>\n",
       "    <tr>\n",
       "      <th>0</th>\n",
       "      <td>test0.jpg</td>\n",
       "    </tr>\n",
       "    <tr>\n",
       "      <th>1</th>\n",
       "      <td>test1.jpg</td>\n",
       "    </tr>\n",
       "    <tr>\n",
       "      <th>2</th>\n",
       "      <td>test2.jpg</td>\n",
       "    </tr>\n",
       "    <tr>\n",
       "      <th>3</th>\n",
       "      <td>test3.jpg</td>\n",
       "    </tr>\n",
       "    <tr>\n",
       "      <th>4</th>\n",
       "      <td>test4.jpg</td>\n",
       "    </tr>\n",
       "  </tbody>\n",
       "</table>\n",
       "</div>"
      ],
      "text/plain": [
       "    Image_ID\n",
       "0  test0.jpg\n",
       "1  test1.jpg\n",
       "2  test2.jpg\n",
       "3  test3.jpg\n",
       "4  test4.jpg"
      ]
     },
     "execution_count": 55,
     "metadata": {
      "tags": []
     },
     "output_type": "execute_result"
    }
   ],
   "source": [
    "test = pd.read_csv('test.csv')\n",
    "test.head()"
   ]
  },
  {
   "cell_type": "code",
   "execution_count": 0,
   "metadata": {
    "colab": {},
    "colab_type": "code",
    "id": "E-wpRruG0_HS"
   },
   "outputs": [],
   "source": [
    "test_images = []\n",
    "for img_name in test.Image_ID:\n",
    "    img = plt.imread('' + img_name)\n",
    "    test_images.append(img)\n",
    "test_images = np.array(test_images)\n",
    "\n",
    "test_img = []\n",
    "for i in range(0,test_images.shape[0]):\n",
    "    a = resize(test_images[i], preserve_range=True, output_shape=(224,224)).astype(int)\n",
    "    test_img.append(a)\n",
    "test_img = np.array(test_img)"
   ]
  },
  {
   "cell_type": "code",
   "execution_count": 0,
   "metadata": {
    "colab": {},
    "colab_type": "code",
    "id": "F-gJFt240_Ko"
   },
   "outputs": [],
   "source": [
    "# preprocessing the images\n",
    "test_img = preprocess_input(test_img, mode='tf')\n",
    "\n",
    "# extracting features from the images using VGG16\n",
    "test_img = base_model.predict(test_img)\n",
    "\n",
    "# converting the images to 1-D array\n",
    "test_img = test_img.reshape(186, -1)\n",
    "\n",
    "# zero centered images\n",
    "test_img = test_img/test_img.max()"
   ]
  },
  {
   "cell_type": "code",
   "execution_count": 0,
   "metadata": {
    "colab": {},
    "colab_type": "code",
    "id": "KlWJU4Sl0_El"
   },
   "outputs": [],
   "source": [
    "test_preds= net.predict_classes(test_img)"
   ]
  },
  {
   "cell_type": "code",
   "execution_count": 61,
   "metadata": {
    "colab": {
     "base_uri": "https://localhost:8080/",
     "height": 52
    },
    "colab_type": "code",
    "id": "2yiJqSGP1qj_",
    "outputId": "28665c9a-194d-4ea0-965f-e1c1dff5dea0"
   },
   "outputs": [
    {
     "name": "stdout",
     "output_type": "stream",
     "text": [
      "The screen time of JERRY is 5 seconds\n",
      "The screen time of TOM is 116 seconds\n"
     ]
    }
   ],
   "source": [
    "print(\"The screen time of JERRY is \", test_preds[test_preds==1].shape[0], \"seconds\")\n",
    "print(\"The screen time of TOM is \", test_preds[test_preds==0].shape[0], \"seconds\")"
   ]
  }
 ],
 "metadata": {
  "accelerator": "GPU",
  "colab": {
   "collapsed_sections": [],
   "name": "video data analysis using CNN with Keras.ipynb",
   "provenance": [],
   "version": "0.3.2"
  },
  "kernelspec": {
   "display_name": "Python 3",
   "language": "python",
   "name": "python3"
  },
  "language_info": {
   "codemirror_mode": {
    "name": "ipython",
    "version": 3
   },
   "file_extension": ".py",
   "mimetype": "text/x-python",
   "name": "python",
   "nbconvert_exporter": "python",
   "pygments_lexer": "ipython3",
   "version": "3.7.3"
  }
 },
 "nbformat": 4,
 "nbformat_minor": 1
}
